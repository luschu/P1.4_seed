{
 "cells": [
  {
   "cell_type": "markdown",
   "metadata": {
    "deletable": false,
    "nbgrader": {
     "checksum": "9f233eb32b3773049e805057c9cafee7",
     "grade": false,
     "grade_id": "random_desc",
     "locked": true,
     "solution": false
    }
   },
   "source": [
    "# Pure Python evaluation of vector norms\n",
    "\n",
    "Generate a list of random floats of a given dimension (dim), and store its result in the variable `vec`."
   ]
  },
  {
   "cell_type": "code",
   "execution_count": 15,
   "metadata": {
    "deletable": false,
    "nbgrader": {
     "checksum": "b1ed817404c5a21f9dcf7f89748a0c8d",
     "grade": false,
     "grade_id": "random",
     "locked": false,
     "solution": true
    }
   },
   "outputs": [
    {
     "name": "stdout",
     "output_type": "stream",
     "text": [
      "Populating the interactive namespace from numpy and matplotlib\n"
     ]
    },
    {
     "data": {
      "text/plain": [
       "array([0.29154493, 0.63770139, 0.35319634, 0.07200169, 0.69079313,\n",
       "       0.66820071, 0.13054191, 0.27423933, 0.06573839, 0.97965103,\n",
       "       0.42368472, 0.15856795, 0.35267698, 0.41706413, 0.4871531 ,\n",
       "       0.18056826, 0.96150995, 0.64495925, 0.61552155, 0.5627381 ,\n",
       "       0.11876694, 0.43048604, 0.32182794, 0.24131276, 0.02287178,\n",
       "       0.95589012, 0.14626569, 0.8915439 , 0.7029855 , 0.91489914,\n",
       "       0.49335477, 0.07641094, 0.09951831, 0.71959097, 0.12721408,\n",
       "       0.81274046, 0.9931    , 0.8615337 , 0.79053885, 0.57580802,\n",
       "       0.20135414, 0.65937819, 0.27343136, 0.00597901, 0.05164353,\n",
       "       0.66880635, 0.77398423, 0.98266461, 0.15341   , 0.46014731,\n",
       "       0.79586482, 0.28221586, 0.37621296, 0.68677937, 0.60255978,\n",
       "       0.41219665, 0.13147792, 0.29014219, 0.15207059, 0.30096046,\n",
       "       0.57571695, 0.44258102, 0.68158897, 0.38682654, 0.21678862,\n",
       "       0.09428863, 0.39323831, 0.6356502 , 0.59116245, 0.36501693,\n",
       "       0.93953543, 0.5076963 , 0.50630076, 0.57818343, 0.40620828,\n",
       "       0.84996813, 0.98600777, 0.6175946 , 0.8305276 , 0.50848019,\n",
       "       0.0817119 , 0.22988023, 0.54144598, 0.34261857, 0.63709829,\n",
       "       0.46623915, 0.12515507, 0.16855108, 0.8217842 , 0.47340758,\n",
       "       0.40080134, 0.9027218 , 0.4081203 , 0.38847493, 0.3910371 ,\n",
       "       0.30356032, 0.89190283, 0.5523461 , 0.23083022, 0.87382589,\n",
       "       0.14099815, 0.48675205, 0.13598604, 0.90314921, 0.21934179,\n",
       "       0.9395464 , 0.50002042, 0.47906946, 0.96602166, 0.36894198,\n",
       "       0.39721109, 0.48612798, 0.10799671, 0.26655254, 0.17517855,\n",
       "       0.43656786, 0.9247137 , 0.8390422 , 0.17616993, 0.48887963,\n",
       "       0.71481104, 0.65318658, 0.55710389, 0.95288474, 0.98535725,\n",
       "       0.43648182, 0.42498536, 0.10943004, 0.91906437, 0.13572092,\n",
       "       0.2911207 , 0.15427706, 0.05494552, 0.49182488, 0.22984181,\n",
       "       0.2549961 , 0.43182405, 0.33217823, 0.44768251, 0.72671405,\n",
       "       0.93710205, 0.85759114, 0.85101671, 0.36266914, 0.3945977 ,\n",
       "       0.66732676, 0.68431192, 0.27470041, 0.61805063, 0.62897472,\n",
       "       0.56050741, 0.65337158, 0.25440568, 0.00768583, 0.19806788,\n",
       "       0.49722899, 0.57145949, 0.7474644 , 0.29124561, 0.65621136,\n",
       "       0.81272641, 0.90797295, 0.62136265, 0.63734425, 0.13752286,\n",
       "       0.67295867, 0.78214181, 0.544456  , 0.12138963, 0.78629044,\n",
       "       0.14998807, 0.42904609, 0.25507568, 0.76467402, 0.22892448,\n",
       "       0.16366427, 0.78916591, 0.9448622 , 0.31275378, 0.63229023,\n",
       "       0.18839461, 0.5902231 , 0.80819927, 0.73183373, 0.49429144,\n",
       "       0.30844201, 0.45250745, 0.00588394, 0.87111908, 0.09018759,\n",
       "       0.73892105, 0.84823967, 0.65582412, 0.81019582, 0.96817256,\n",
       "       0.85674254, 0.05629024, 0.47241993, 0.65590379, 0.15879488,\n",
       "       0.70584487, 0.61706583, 0.07811302, 0.61968687, 0.74316256,\n",
       "       0.28951583, 0.22726746, 0.47953672, 0.57687549, 0.1956645 ,\n",
       "       0.2231897 , 0.25819236, 0.88456804, 0.43889272, 0.93654802,\n",
       "       0.83150759, 0.18864552, 0.12391331, 0.73103331, 0.3854953 ,\n",
       "       0.1474511 , 0.69533537, 0.05931696, 0.2155128 , 0.0850945 ,\n",
       "       0.89016083, 0.57227943, 0.43683252, 0.96379863, 0.61344166,\n",
       "       0.23846559, 0.0686459 , 0.46432694, 0.23446291, 0.96528396,\n",
       "       0.97721831, 0.20718562, 0.52299239, 0.74299476, 0.61130217,\n",
       "       0.79812128, 0.3269193 , 0.89128007, 0.16608705, 0.35079413,\n",
       "       0.05569939, 0.76083838, 0.40651164, 0.57018415, 0.99075592,\n",
       "       0.203984  , 0.41897778, 0.92221501, 0.05932612, 0.39692997,\n",
       "       0.82963479, 0.70430515, 0.70594194, 0.61695044, 0.20417202,\n",
       "       0.48807387, 0.07852893, 0.59795907, 0.25731724, 0.50037817,\n",
       "       0.7082743 , 0.97360871, 0.56537719, 0.32223129, 0.80726522,\n",
       "       0.77236909, 0.62019176, 0.03596977, 0.43587691, 0.81196181,\n",
       "       0.40778057, 0.85135216, 0.1645175 , 0.85076761, 0.83611677,\n",
       "       0.4246253 , 0.09258708, 0.29625834, 0.75405465, 0.22520651,\n",
       "       0.66744524, 0.04809763, 0.45258886, 0.72834108, 0.05233884,\n",
       "       0.42476302, 0.8845126 , 0.68011583, 0.42674079, 0.03553298,\n",
       "       0.07451611, 0.21924377, 0.670383  , 0.66850701, 0.96285668,\n",
       "       0.06442448, 0.46922571, 0.76382153, 0.02739729, 0.2424733 ,\n",
       "       0.29089349, 0.40589028, 0.8378582 , 0.78484055, 0.86438477,\n",
       "       0.70885676, 0.78982608, 0.63359927, 0.18902817, 0.74390076,\n",
       "       0.04616839, 0.79553156, 0.18302436, 0.95698437, 0.50927255,\n",
       "       0.13383871, 0.98908965, 0.46345119, 0.94840629, 0.56179765,\n",
       "       0.24853734, 0.46510158, 0.34567197, 0.3617104 , 0.47149256,\n",
       "       0.07477025, 0.64603661, 0.64937362, 0.55760606, 0.84603552,\n",
       "       0.46276649, 0.737418  , 0.01596215, 0.45653434, 0.62440387,\n",
       "       0.55479683, 0.29992622, 0.03783926, 0.74087055, 0.18013287,\n",
       "       0.56430354, 0.60230203, 0.64472943, 0.97969089, 0.25789492,\n",
       "       0.78827921, 0.17790242, 0.16819245, 0.67075363, 0.81539624,\n",
       "       0.51722479, 0.95765251, 0.23575204, 0.93662551, 0.5678473 ,\n",
       "       0.0352923 , 0.6159126 , 0.50023202, 0.68763142, 0.28449511,\n",
       "       0.00874006, 0.41688706, 0.92906453, 0.74392725, 0.5252259 ,\n",
       "       0.74410401, 0.01899316, 0.2652236 , 0.88838179, 0.00782222,\n",
       "       0.35588901, 0.01173402, 0.87472961, 0.64087868, 0.67064369,\n",
       "       0.79877159, 0.41754643, 0.41741861, 0.78338559, 0.6869077 ,\n",
       "       0.75671053, 0.59078373, 0.01163784, 0.43044744, 0.36201432,\n",
       "       0.53878312, 0.29499444, 0.85599781, 0.28400867, 0.06050385,\n",
       "       0.61335302, 0.32615806, 0.45410289, 0.10392797, 0.97001027,\n",
       "       0.934299  , 0.80707856, 0.98471289, 0.81013209, 0.39773732,\n",
       "       0.85321554, 0.92430699, 0.29559794, 0.36419623, 0.68898716,\n",
       "       0.58549055, 0.96121959, 0.02538622, 0.5551698 , 0.62536992,\n",
       "       0.48583059, 0.52726035, 0.49593364, 0.54239935, 0.04992809,\n",
       "       0.27151027, 0.22236964, 0.16120228, 0.99770459, 0.38116514,\n",
       "       0.86506976, 0.420949  , 0.86952287, 0.43758743, 0.91966703,\n",
       "       0.47818478, 0.39746763, 0.13544766, 0.67785039, 0.8322593 ,\n",
       "       0.48467907, 0.04214475, 0.43169459, 0.15393257, 0.13894106,\n",
       "       0.73921808, 0.92140953, 0.46868364, 0.56102276, 0.60493584,\n",
       "       0.62685031, 0.86475203, 0.87434611, 0.07853995, 0.56409951,\n",
       "       0.95723634, 0.50565703, 0.68228852, 0.9440966 , 0.27603243,\n",
       "       0.10967889, 0.3964996 , 0.82099851, 0.10396541, 0.59221504,\n",
       "       0.41672815, 0.47966665, 0.84379217, 0.17855368, 0.12653065,\n",
       "       0.59767404, 0.09247449, 0.21491837, 0.76608859, 0.20248418,\n",
       "       0.87937726, 0.37951526, 0.61946   , 0.6329978 , 0.7244507 ,\n",
       "       0.95446721, 0.48879397, 0.21900583, 0.57647691, 0.39307305,\n",
       "       0.41505776, 0.68152908, 0.58686498, 0.70643477, 0.43039833,\n",
       "       0.6867528 , 0.52669847, 0.02427498, 0.20664596, 0.1277014 ,\n",
       "       0.48917048, 0.78086345, 0.60323935, 0.71808919, 0.37331583,\n",
       "       0.18952768, 0.79155056, 0.54008906, 0.9276767 , 0.2715017 ,\n",
       "       0.5465979 , 0.82752735, 0.61867383, 0.24157282, 0.91279003,\n",
       "       0.03676962, 0.46444603, 0.403124  , 0.80357461, 0.92617385,\n",
       "       0.46749011, 0.34156095, 0.14859998, 0.64726311, 0.32157386,\n",
       "       0.32037444, 0.92000351, 0.0425798 , 0.26736935, 0.62483899,\n",
       "       0.90631855, 0.10502417, 0.47273847, 0.79116963, 0.07267724,\n",
       "       0.81459537, 0.08467031, 0.99345984, 0.85842616, 0.45904481,\n",
       "       0.15141345, 0.04120262, 0.93786709, 0.37973061, 0.58143748,\n",
       "       0.34721066, 0.75984391, 0.74601395, 0.14145307, 0.5185282 ,\n",
       "       0.15798126, 0.04159294, 0.82993996, 0.37030377, 0.79386305,\n",
       "       0.62337074, 0.56006354, 0.43470896, 0.59248223, 0.68747468,\n",
       "       0.34279496, 0.52819379, 0.89815915, 0.70610007, 0.82620851,\n",
       "       0.56208816, 0.44481427, 0.38867326, 0.56418458, 0.66107309,\n",
       "       0.94502871, 0.52772031, 0.56833917, 0.36282288, 0.34890292,\n",
       "       0.06221942, 0.10474254, 0.15902526, 0.10163485, 0.94266949,\n",
       "       0.45793689, 0.27745758, 0.00554753, 0.21080061, 0.97923293,\n",
       "       0.01808467, 0.02080808, 0.52236459, 0.02880275, 0.06049161,\n",
       "       0.14351857, 0.65991163, 0.34746197, 0.47431175, 0.7875815 ,\n",
       "       0.29284144, 0.27093643, 0.44351292, 0.52177831, 0.75007381,\n",
       "       0.84166353, 0.45043038, 0.7079276 , 0.2965179 , 0.55755265,\n",
       "       0.28681658, 0.86835206, 0.69516701, 0.94774064, 0.92379485,\n",
       "       0.9556984 , 0.31275671, 0.66740316, 0.757711  , 0.05921121,\n",
       "       0.63169017, 0.68351867, 0.57983651, 0.86255462, 0.9863545 ,\n",
       "       0.33232938, 0.06678918, 0.19291546, 0.01860053, 0.30278251,\n",
       "       0.81626169, 0.46572242, 0.34020565, 0.88655116, 0.87778795,\n",
       "       0.79328269, 0.02527237, 0.67181969, 0.3417166 , 0.87890436,\n",
       "       0.11015873, 0.18768412, 0.95570918, 0.06422205, 0.75532769,\n",
       "       0.57017101, 0.41426968, 0.09947459, 0.51392506, 0.68153075,\n",
       "       0.30457887, 0.63164229, 0.87073422, 0.37557956, 0.40796022,\n",
       "       0.34633471, 0.46435121, 0.99595633, 0.53625414, 0.92041339,\n",
       "       0.42234482, 0.14460573, 0.67508168, 0.29782482, 0.39409851,\n",
       "       0.63388551, 0.82582482, 0.33480737, 0.75895251, 0.02206605,\n",
       "       0.52593663, 0.1586532 , 0.62499594, 0.35435607, 0.47582708,\n",
       "       0.42387702, 0.64654963, 0.48169153, 0.59131083, 0.90381907,\n",
       "       0.02150023, 0.55277585, 0.45364277, 0.7149508 , 0.22089772,\n",
       "       0.24075211, 0.26934911, 0.49103163, 0.88756746, 0.58449488,\n",
       "       0.26818068, 0.79125072, 0.93919947, 0.24300721, 0.58742301,\n",
       "       0.69901987, 0.61871185, 0.61354   , 0.38965513, 0.13719484,\n",
       "       0.2587029 , 0.1126219 , 0.71446357, 0.57842441, 0.62669426,\n",
       "       0.22387011, 0.67281626, 0.97085195, 0.42202275, 0.62706068,\n",
       "       0.17188242, 0.32497779, 0.89504429, 0.88788471, 0.34307659,\n",
       "       0.28986357, 0.88786108, 0.45240977, 0.2093323 , 0.60173618,\n",
       "       0.05972331, 0.32199216, 0.73072807, 0.53868309, 0.23966577,\n",
       "       0.0432675 , 0.82992018, 0.96906677, 0.96786881, 0.76237301,\n",
       "       0.29661681, 0.76433862, 0.08136462, 0.23430413, 0.79818412,\n",
       "       0.36784625, 0.4166566 , 0.95606413, 0.57912857, 0.11323177,\n",
       "       0.17052034, 0.15221206, 0.88780881, 0.90796308, 0.82255028,\n",
       "       0.50922489, 0.39231466, 0.95154869, 0.00513896, 0.46160893,\n",
       "       0.86504996, 0.73970883, 0.76302694, 0.15803829, 0.88609323,\n",
       "       0.95742878, 0.00255522, 0.59319644, 0.27257613, 0.64956495,\n",
       "       0.69812616, 0.3777972 , 0.62204184, 0.17331747, 0.93110213,\n",
       "       0.34482662, 0.10198321, 0.99129359, 0.88980797, 0.80038236,\n",
       "       0.99962818, 0.02820179, 0.28233326, 0.14190441, 0.32442054,\n",
       "       0.91313616, 0.32047583, 0.11230288, 0.31972412, 0.17479998,\n",
       "       0.72169829, 0.19917469, 0.9284256 , 0.1771085 , 0.08413714,\n",
       "       0.71567352, 0.18456398, 0.75125004, 0.61339687, 0.67667707,\n",
       "       0.63055946, 0.91190977, 0.0725103 , 0.17951358, 0.9364866 ,\n",
       "       0.37742482, 0.83512342, 0.4690467 , 0.49024406, 0.72029659,\n",
       "       0.40812186, 0.09723365, 0.91721466, 0.0122419 , 0.13213407,\n",
       "       0.00814717, 0.51340552, 0.01251717, 0.82070526, 0.47951272,\n",
       "       0.08342537, 0.66565987, 0.24699286, 0.21815156, 0.52698987,\n",
       "       0.12108301, 0.10653687, 0.99338476, 0.20607401, 0.66797402,\n",
       "       0.07694311, 0.06915262, 0.98561079, 0.75878503, 0.20160267,\n",
       "       0.22383978, 0.10720398, 0.15909632, 0.82962128, 0.11027953,\n",
       "       0.64074354, 0.5315052 , 0.57196067, 0.45757487, 0.01608692,\n",
       "       0.66738677, 0.50381519, 0.62913199, 0.92231381, 0.20491977,\n",
       "       0.69169463, 0.79878508, 0.09915826, 0.39530447, 0.63812528,\n",
       "       0.41739395, 0.64841641, 0.35392863, 0.03479927, 0.80773936,\n",
       "       0.32762604, 0.79812177, 0.1475403 , 0.01641746, 0.98830205,\n",
       "       0.73560517, 0.8513777 , 0.63872906, 0.92701319, 0.567574  ,\n",
       "       0.83618967, 0.08985825, 0.10740361, 0.66308348, 0.12447197,\n",
       "       0.58714455, 0.10823349, 0.42130189, 0.76109603, 0.47443579,\n",
       "       0.37495222, 0.14867672, 0.25557907, 0.36804791, 0.61526615,\n",
       "       0.39722613, 0.80035688, 0.90204411, 0.84260527, 0.01251094,\n",
       "       0.99173648, 0.06764154, 0.93613667, 0.66173718, 0.11502548,\n",
       "       0.15713977, 0.0353238 , 0.54788781, 0.47179712, 0.64629199,\n",
       "       0.75231955, 0.1068613 , 0.51635807, 0.16336825, 0.97652065,\n",
       "       0.26312912, 0.60874382, 0.28016311, 0.80666427, 0.76579592,\n",
       "       0.16630124, 0.58104133, 0.41085061, 0.47909534, 0.24386053,\n",
       "       0.85736896, 0.88007892, 0.24652741, 0.77583397, 0.78803238,\n",
       "       0.62244061, 0.18727486, 0.81439156, 0.35181584, 0.39268317,\n",
       "       0.83356767, 0.80406969, 0.87949271, 0.675693  , 0.9823542 ,\n",
       "       0.16493781, 0.18632636, 0.91003673, 0.5167281 , 0.49689217,\n",
       "       0.66084547, 0.5265604 , 0.65368191, 0.58718027, 0.09781627,\n",
       "       0.10639046, 0.38701737, 0.21713586, 0.44503838, 0.17913385,\n",
       "       0.10982028, 0.74123565, 0.67848108, 0.40724876, 0.53387141,\n",
       "       0.17516253, 0.47971276, 0.97477593, 0.93493258, 0.89906703,\n",
       "       0.87029014, 0.02180503, 0.61001792, 0.89726289, 0.81191144,\n",
       "       0.36406578, 0.84692077, 0.81623776, 0.89973131, 0.81593634,\n",
       "       0.24574437, 0.76157525, 0.52086055, 0.02421252, 0.26618062,\n",
       "       0.80031752, 0.12376114, 0.05735142, 0.22891341, 0.60423094,\n",
       "       0.96494982, 0.06563757, 0.54831263, 0.49181122, 0.62680143,\n",
       "       0.4366947 , 0.68129698, 0.02239795, 0.31584647, 0.36940184,\n",
       "       0.69899953, 0.29072984, 0.47895028, 0.48472081, 0.51494253,\n",
       "       0.37804036, 0.67772948, 0.12664312, 0.6672785 , 0.66758161,\n",
       "       0.62279654, 0.19413819, 0.02388513, 0.70199348, 0.22725087,\n",
       "       0.16616775, 0.83382834, 0.84915352, 0.42965154, 0.29327315,\n",
       "       0.85468193, 0.86024732, 0.9036521 , 0.01490098, 0.13750699,\n",
       "       0.0483526 , 0.90553244, 0.55282199, 0.68434801, 0.46942098,\n",
       "       0.49552078, 0.43790716, 0.06619036, 0.09710578, 0.71509075,\n",
       "       0.50071309, 0.83874631, 0.1016408 , 0.19095197, 0.67446465])"
      ]
     },
     "execution_count": 15,
     "metadata": {},
     "output_type": "execute_result"
    }
   ],
   "source": [
    "# This is used for plots and numpy\n",
    "%pylab inline \n",
    "\n",
    "#import random\n",
    "dim = int(1000)\n",
    "\n",
    "# YOUR CODE HERE\n",
    "#vec = []\n",
    "#[vec.append(random.random() for i in range(dim))]\n",
    "#print(vec)\n",
    "vec = random.random(dim)\n",
    "vec\n",
    "#raise NotImplementedError()"
   ]
  },
  {
   "cell_type": "code",
   "execution_count": null,
   "metadata": {
    "deletable": false,
    "nbgrader": {
     "checksum": "223c15c7276b82fe757f18357a42b7a2",
     "grade": true,
     "grade_id": "random_check",
     "locked": true,
     "points": 3,
     "solution": false
    }
   },
   "outputs": [],
   "source": [
    "from numpy.testing import *\n",
    "\n",
    "assert_equal(type(vec), list)\n",
    "assert_equal(len(vec), dim)\n",
    "for ob in vec:\n",
    "    assert_equal(type(ob), float)"
   ]
  },
  {
   "cell_type": "markdown",
   "metadata": {
    "deletable": false,
    "nbgrader": {
     "checksum": "51a82e789d9ec00a9660d9e01a93ac95",
     "grade": false,
     "grade_id": "norm-desc",
     "locked": true,
     "solution": false
    }
   },
   "source": [
    "Write a function that evaluates the $l_p$ norm of a vector in $R^d$. We remind:\n",
    "$$\n",
    "\\|v \\|_{p} := \\left(\\sum_i (v_i)^p\\right)^{1/p}\n",
    "$$\n",
    "\n",
    "the function should take as arguments a `list`, containing your $R^d$ vector, and a number `p` in the range $[1, \\infty]$, indicating the exponent of the norm. \n",
    "\n",
    "**Note:** an infinite float number is given by `float(\"inf\")`.\n",
    "\n",
    "Throw an assertion (look it up on google!) if the exponent is not in the range you expect."
   ]
  },
  {
   "cell_type": "code",
   "execution_count": null,
   "metadata": {
    "deletable": false,
    "nbgrader": {
     "checksum": "00a224e6d87bdf9db02149ceb7103a50",
     "grade": false,
     "grade_id": "norm",
     "locked": false,
     "solution": true
    }
   },
   "outputs": [],
   "source": [
    "def p_norm(vector,p):\n",
    "    # YOUR CODE HERE\n",
    "    raise NotImplementedError()"
   ]
  },
  {
   "cell_type": "code",
   "execution_count": null,
   "metadata": {
    "deletable": false,
    "nbgrader": {
     "checksum": "b5d2b6748279174b783a902b0b03f5f0",
     "grade": true,
     "grade_id": "norm-check-1",
     "locked": true,
     "points": 1,
     "solution": false
    }
   },
   "outputs": [],
   "source": [
    "assert_equal(p_norm(range(10),1), 45.0)\n",
    "assert_equal(p_norm([3,4], 2), 5.0)"
   ]
  },
  {
   "cell_type": "code",
   "execution_count": null,
   "metadata": {
    "collapsed": true,
    "deletable": false,
    "nbgrader": {
     "checksum": "ce79af156d645e12269d9f5d3a6d2e36",
     "grade": true,
     "grade_id": "norm-check-2",
     "locked": true,
     "points": 1,
     "solution": false
    }
   },
   "outputs": [],
   "source": [
    "assert_equal(p_norm([-1,-.5,.5], float(\"inf\")), 1)"
   ]
  },
  {
   "cell_type": "code",
   "execution_count": null,
   "metadata": {
    "deletable": false,
    "nbgrader": {
     "checksum": "bdf0947f5e6d0b4be27d2eda93dc27dd",
     "grade": true,
     "grade_id": "norm-check-3",
     "locked": true,
     "points": 1,
     "solution": false
    }
   },
   "outputs": [],
   "source": [
    "assert_raises(AssertionError, p_norm, [2,3], 0)\n",
    "assert_raises(AssertionError, p_norm, [2,3], -1)"
   ]
  },
  {
   "cell_type": "markdown",
   "metadata": {
    "deletable": false,
    "nbgrader": {
     "checksum": "c79fcf0a64e458c15f5949bbaf39a44e",
     "grade": false,
     "grade_id": "fd-desc",
     "locked": true,
     "solution": false
    }
   },
   "source": [
    "# Playing with condition numbers\n",
    "\n",
    "\n",
    "In this exercise you will have to figure out what are the optimal\n",
    "values of the stepping interval when approximating derivatives using\n",
    "the finite difference method. See here_ for a short introduction on\n",
    "how to run these programs on SISSA machines.\n",
    "\n",
    "## 1. Finite differences\n",
    "Write a program to compute the finite difference (`FD`)\n",
    "approximation of the derivative of a function `f`, computed at\n",
    "point `x`, using a stepping of size `h`. Recall the definition of\n",
    "approximate derivative:\n",
    "\n",
    "$$\n",
    "FD(f,x,h) := \\frac{f(x+h)-f(x)}{h}\n",
    "$$"
   ]
  },
  {
   "cell_type": "code",
   "execution_count": null,
   "metadata": {
    "deletable": false,
    "nbgrader": {
     "checksum": "76e4488d27cc346f6ac53d1a145aad17",
     "grade": false,
     "grade_id": "fd",
     "locked": false,
     "solution": true
    }
   },
   "outputs": [],
   "source": [
    "def FD(f, x, h):\n",
    "    # YOUR CODE HERE\n",
    "    raise NotImplementedError()"
   ]
  },
  {
   "cell_type": "code",
   "execution_count": null,
   "metadata": {
    "deletable": false,
    "nbgrader": {
     "checksum": "f9924babcbbb399825ad6f2087bc795b",
     "grade": true,
     "grade_id": "fd-check-1",
     "locked": true,
     "points": 1,
     "solution": false
    }
   },
   "outputs": [],
   "source": [
    "assert_equal(FD(lambda x: x, 0, .125), 1.0)"
   ]
  },
  {
   "cell_type": "markdown",
   "metadata": {
    "deletable": false,
    "nbgrader": {
     "checksum": "2c98afc1a075f16ab23e206a827dc233",
     "grade": false,
     "grade_id": "fd2-desc",
     "locked": true,
     "solution": false
    }
   },
   "source": [
    "## 2. Compute FD\n",
    "\n",
    "Evaluate this function for the derivative of `sin(x)` evaluated at `x=1`, for values of `h` equal to `1e-i`, with `i=0,...,20`. Store the values of the finite differences in the list `fd1`."
   ]
  },
  {
   "cell_type": "code",
   "execution_count": null,
   "metadata": {
    "deletable": false,
    "nbgrader": {
     "checksum": "b4dcf56a59887d4319b2cb98ffa98976",
     "grade": false,
     "grade_id": "fd2",
     "locked": false,
     "points": 1,
     "solution": true
    }
   },
   "outputs": [],
   "source": [
    "# YOUR CODE HERE\n",
    "raise NotImplementedError()"
   ]
  },
  {
   "cell_type": "code",
   "execution_count": null,
   "metadata": {
    "deletable": false,
    "nbgrader": {
     "checksum": "182c007dceec8bf65659546a6c28a59f",
     "grade": true,
     "grade_id": "fd2-check1",
     "locked": true,
     "points": 1,
     "solution": false
    }
   },
   "outputs": [],
   "source": [
    "assert_equal(len(fd1), 21)\n",
    "expected = [0.067826442017785205, 0.49736375253538911, 0.53608598101186899, 0.5398814803603269, 0.54026023141862112, 0.54029809850586474, 0.54030188512133037, 0.54030226404044868, 0.54030229179602429, 0.54030235840940577, 0.54030224738710331, 0.54030113716407868, 0.54034554608506369, 0.53956838996782608, 0.53290705182007514, 0.55511151231257827, 0.0, 0.0, 0.0, 0.0, 0.0]\n",
    "assert_almost_equal(fd1,expected,decimal=4)"
   ]
  },
  {
   "cell_type": "markdown",
   "metadata": {
    "deletable": false,
    "nbgrader": {
     "checksum": "4e46ca6958c6f03f3a259490f4d9844d",
     "grade": false,
     "grade_id": "fd3-desc",
     "locked": true,
     "solution": false
    }
   },
   "source": [
    "## 3. Error plots\n",
    "\n",
    "Plot the error, defined as `abs(FD-cos(1.0))` where `FD` is your approximation, in `loglog` format and explain what you see. A good way to emphasize the result is to give the option `'-o'` to the plot command."
   ]
  },
  {
   "cell_type": "code",
   "execution_count": null,
   "metadata": {
    "deletable": false,
    "nbgrader": {
     "checksum": "58f3d772034530fae4f1394fd9ac9065",
     "grade": true,
     "grade_id": "fd3",
     "locked": false,
     "points": 1,
     "solution": true
    }
   },
   "outputs": [],
   "source": [
    "# YOUR CODE HERE\n",
    "raise NotImplementedError()"
   ]
  },
  {
   "cell_type": "markdown",
   "metadata": {
    "deletable": false,
    "nbgrader": {
     "checksum": "0f366e5b02bb5272ce93a6f24ef607a0",
     "grade": true,
     "grade_id": "fd3-comment",
     "locked": false,
     "points": 5,
     "solution": true
    }
   },
   "source": [
    "YOUR ANSWER HERE"
   ]
  },
  {
   "cell_type": "markdown",
   "metadata": {
    "deletable": false,
    "nbgrader": {
     "checksum": "6105b9c6350f6856a194da4d139b3794",
     "grade": false,
     "grade_id": "fd-base2-desc",
     "locked": true,
     "solution": false
    }
   },
   "source": [
    "## 4. Error plots base 2\n",
    "Repeate step 2 and 3 above, but using powers of `2` instead of powers of `10`, i.e., using `h` equal to `2**(-i)` for `i=1,...,60`. Do you see differences? How do you explain these differences? Shortly comment.  A good way to emphasize the result is to give the option `'-o'` to the plot command."
   ]
  },
  {
   "cell_type": "markdown",
   "metadata": {
    "deletable": false,
    "nbgrader": {
     "checksum": "673e9b7faebb995a403a6a1e9ea76f47",
     "grade": true,
     "grade_id": "fd-base2",
     "locked": false,
     "points": 1,
     "solution": true
    }
   },
   "source": [
    "YOUR ANSWER HERE"
   ]
  },
  {
   "cell_type": "markdown",
   "metadata": {
    "deletable": false,
    "nbgrader": {
     "checksum": "42758fc5eb31ceb960921a409325d936",
     "grade": true,
     "grade_id": "fd-base2-comment",
     "locked": false,
     "points": 5,
     "solution": true
    }
   },
   "source": [
    "YOUR ANSWER HERE"
   ]
  },
  {
   "cell_type": "markdown",
   "metadata": {
    "deletable": false,
    "nbgrader": {
     "checksum": "7f0300838939fb3637561d2da88d79dd",
     "grade": false,
     "grade_id": "cfd-desc",
     "locked": true,
     "solution": false
    }
   },
   "source": [
    "## 5. Central Finite Differences\n",
    "Write a function that computes the central finite difference approximation (`CFD`), defined as \n",
    "\n",
    "$$\n",
    "CFD(f,x,h) := \\frac{f(x+h)-f(x-h)}{2h}\n",
    "$$\n"
   ]
  },
  {
   "cell_type": "code",
   "execution_count": null,
   "metadata": {
    "collapsed": true,
    "deletable": false,
    "nbgrader": {
     "checksum": "d5de503bdfc25f777473402d07a89211",
     "grade": false,
     "grade_id": "cfd",
     "locked": false,
     "solution": true
    }
   },
   "outputs": [],
   "source": [
    "def CFD(f, x, h):\n",
    "    # YOUR CODE HERE\n",
    "    raise NotImplementedError()"
   ]
  },
  {
   "cell_type": "code",
   "execution_count": null,
   "metadata": {
    "deletable": false,
    "nbgrader": {
     "checksum": "2851b0f40a3773162f52614524b25963",
     "grade": true,
     "grade_id": "cfd-check",
     "locked": true,
     "points": 1,
     "solution": false
    }
   },
   "outputs": [],
   "source": [
    "assert_equal(CFD(lambda x: x**2, 0.0, .5), 0.0)\n",
    "assert_equal(CFD(lambda x: x**2, 1.0, .5), 2.0)"
   ]
  },
  {
   "cell_type": "markdown",
   "metadata": {
    "deletable": false,
    "nbgrader": {
     "checksum": "0da2440c559f1c3ee4c746c498914b48",
     "grade": false,
     "grade_id": "cfd2-desc",
     "locked": true,
     "solution": false
    }
   },
   "source": [
    "## 6. Error plots for CFD\n",
    "\n",
    "Repeat steps 2., 3. and 4. and explain what you see. What is the *order* of the approximation 1. and what is the order of the approximation 5.? What's the order of the cancellation errors? "
   ]
  },
  {
   "cell_type": "code",
   "execution_count": null,
   "metadata": {
    "deletable": false,
    "nbgrader": {
     "checksum": "cb123e54409262ac79e1fb86fdb478f1",
     "grade": true,
     "grade_id": "cfd2-plots",
     "locked": false,
     "points": 2,
     "solution": true
    }
   },
   "outputs": [],
   "source": [
    "# YOUR CODE HERE\n",
    "raise NotImplementedError()"
   ]
  },
  {
   "cell_type": "markdown",
   "metadata": {
    "deletable": false,
    "nbgrader": {
     "checksum": "f90479827a3e6e2a1062164895849b6d",
     "grade": true,
     "grade_id": "cfd2-plots-comment",
     "locked": false,
     "points": 5,
     "solution": true
    }
   },
   "source": [
    "YOUR ANSWER HERE"
   ]
  },
  {
   "cell_type": "markdown",
   "metadata": {
    "deletable": false,
    "nbgrader": {
     "checksum": "10bc99f084a9050397f0c1f708565964",
     "grade": false,
     "grade_id": "array-desc",
     "locked": true,
     "solution": false
    }
   },
   "source": [
    "# Numpy\n",
    "\n",
    "Numpy provides a very powerful array container. The first line of this ipython notebook has imported all of numpy functionalities in your notebook, just as if you typed::\n",
    "\n",
    "    from numpy import *\n",
    "    \n",
    "Create a numpy array whith entries that range form 0 to 64. Use the correct numpy function to do so. Call it `x`. "
   ]
  },
  {
   "cell_type": "code",
   "execution_count": null,
   "metadata": {
    "collapsed": true,
    "deletable": false,
    "nbgrader": {
     "checksum": "6550f75e6ff7e6ce91a8be32deafc301",
     "grade": false,
     "grade_id": "array",
     "locked": false,
     "solution": true
    }
   },
   "outputs": [],
   "source": [
    "# YOUR CODE HERE\n",
    "raise NotImplementedError()"
   ]
  },
  {
   "cell_type": "code",
   "execution_count": null,
   "metadata": {
    "collapsed": true,
    "deletable": false,
    "nbgrader": {
     "checksum": "8faab133eca46158c2547fa7b0967542",
     "grade": true,
     "grade_id": "array-check",
     "locked": true,
     "points": 1,
     "solution": false
    }
   },
   "outputs": [],
   "source": [
    "assert_equal(type(x), ndarray)\n",
    "assert_equal(len(x), 64)\n",
    "for i in xrange(64):\n",
    "    assert_equal(x[i], float(i))"
   ]
  },
  {
   "cell_type": "markdown",
   "metadata": {
    "deletable": false,
    "nbgrader": {
     "checksum": "4cd4b51907f835b495ddbf7dbaa51712",
     "grade": false,
     "grade_id": "array2-desc",
     "locked": true,
     "solution": false
    }
   },
   "source": [
    "Reshape the one dimensional array, to become a 4 rows 2 dimensional array, let numpy evaluate the correct number of culumns. Call it `y`."
   ]
  },
  {
   "cell_type": "code",
   "execution_count": null,
   "metadata": {
    "deletable": false,
    "nbgrader": {
     "checksum": "5f4fd1f167cb5329adf97b2ec8419aeb",
     "grade": false,
     "grade_id": "array2",
     "locked": false,
     "solution": true
    }
   },
   "outputs": [],
   "source": [
    "# YOUR CODE HERE\n",
    "raise NotImplementedError()"
   ]
  },
  {
   "cell_type": "code",
   "execution_count": null,
   "metadata": {
    "deletable": false,
    "nbgrader": {
     "checksum": "ea78fb4567e08e5401b67e4d085856b2",
     "grade": true,
     "grade_id": "array2-check",
     "locked": true,
     "points": 1,
     "solution": false
    }
   },
   "outputs": [],
   "source": [
    "assert_equal(shape(y), (4,16))"
   ]
  },
  {
   "cell_type": "markdown",
   "metadata": {
    "deletable": false,
    "nbgrader": {
     "checksum": "d0bbc9f6e1e02dbbc95ec51cf7122c3b",
     "grade": false,
     "grade_id": "array3-desc",
     "locked": true,
     "solution": false
    }
   },
   "source": [
    "Get the following *slices* of `y`:\n",
    "\n",
    "* All the rows and the first three colums. Name it `sl1`.\n",
    "* All the colums and the first three rows. Name it `sl2`.\n",
    "* Third to sixth (included) columns and all the rows. Name it `sl3`.\n",
    "* The last three columns and all the rows. Name it `sl4`."
   ]
  },
  {
   "cell_type": "code",
   "execution_count": null,
   "metadata": {
    "deletable": false,
    "nbgrader": {
     "checksum": "e1a3a50073b0902f287b4b0c38651fd3",
     "grade": false,
     "grade_id": "array3",
     "locked": false,
     "points": 1,
     "solution": true
    }
   },
   "outputs": [],
   "source": [
    "# YOUR CODE HERE\n",
    "raise NotImplementedError()"
   ]
  },
  {
   "cell_type": "code",
   "execution_count": null,
   "metadata": {
    "deletable": false,
    "nbgrader": {
     "checksum": "1badf276fe91c6c14eb9338c19b73e0b",
     "grade": true,
     "grade_id": "array3-test",
     "locked": true,
     "points": 1,
     "solution": false
    }
   },
   "outputs": [],
   "source": [
    "assert_equal(sl1,[[0,1,2],[16,17,18],[32,33,34],[48,49,50]])\n",
    "assert_equal(sl2,[[0,1,2,3,4,5,6,7,8,9,10,11,12,13,14,15],[16,17,18,19,20,21,22,23,24,25,26,27,28,29,30,31],[32,33,34,35,36,37,38,39,40,41,42,43,44,45,46,47]])\n",
    "assert_equal(sl3,[[3,4,5,6],[19,20,21,22],[35,36,37,38],[51,52,53,54]])\n",
    "assert_equal(sl4,[[13,14,15],[29,30,31],[45,46,47],[61,62,63]])"
   ]
  },
  {
   "cell_type": "markdown",
   "metadata": {
    "deletable": false,
    "nbgrader": {
     "checksum": "33b9e1780c0dd4ffea9751aebf84025e",
     "grade": false,
     "grade_id": "array4-desc",
     "locked": true,
     "solution": false
    }
   },
   "source": [
    "Now reshape the array, as if you wanted to feed it to a fortran routine. Call it `z`."
   ]
  },
  {
   "cell_type": "code",
   "execution_count": null,
   "metadata": {
    "deletable": false,
    "nbgrader": {
     "checksum": "a1d8e18c4b52c6ffbd79742b57141ec0",
     "grade": true,
     "grade_id": "array4",
     "locked": false,
     "points": 1,
     "solution": true
    }
   },
   "outputs": [],
   "source": [
    "# YOUR CODE HERE\n",
    "raise NotImplementedError()"
   ]
  },
  {
   "cell_type": "markdown",
   "metadata": {
    "deletable": false,
    "nbgrader": {
     "checksum": "89ccb4f60ec33efae83377292eb3a8db",
     "grade": false,
     "grade_id": "array5-desc",
     "locked": true,
     "points": 1,
     "solution": false
    }
   },
   "source": [
    "Comment on the result, what has changed with respect to `y`? "
   ]
  },
  {
   "cell_type": "markdown",
   "metadata": {
    "deletable": false,
    "nbgrader": {
     "checksum": "5e50e6c6ca7f382d3ce2e2be28ba537a",
     "grade": true,
     "grade_id": "array5",
     "locked": false,
     "points": 1,
     "solution": true
    }
   },
   "source": [
    "YOUR ANSWER HERE"
   ]
  },
  {
   "cell_type": "markdown",
   "metadata": {
    "deletable": false,
    "nbgrader": {
     "checksum": "1829db8f96489200d1dc93edcb14b265",
     "grade": false,
     "grade_id": "array6-desc",
     "locked": true,
     "solution": false
    }
   },
   "source": [
    "Set the fourth element of `x` to 666666, and print `x`, `y`, `z`. Comment on the result"
   ]
  },
  {
   "cell_type": "code",
   "execution_count": null,
   "metadata": {
    "deletable": false,
    "nbgrader": {
     "checksum": "87726e086d7a7a73c1b8655540f7e852",
     "grade": true,
     "grade_id": "array6-1",
     "locked": false,
     "points": 1,
     "solution": true
    }
   },
   "outputs": [],
   "source": [
    "# YOUR CODE HERE\n",
    "raise NotImplementedError()"
   ]
  },
  {
   "cell_type": "markdown",
   "metadata": {
    "deletable": false,
    "nbgrader": {
     "checksum": "847fd2ffa5fc2351fcfd401fb9c1421b",
     "grade": true,
     "grade_id": "array6-2",
     "locked": false,
     "points": 3,
     "solution": true
    }
   },
   "source": [
    "YOUR ANSWER HERE"
   ]
  },
  {
   "cell_type": "markdown",
   "metadata": {
    "deletable": false,
    "nbgrader": {
     "checksum": "9873725533c9c62aa22dc841f6ff3c04",
     "grade": false,
     "grade_id": "array7-1-desc",
     "locked": true,
     "solution": false
    }
   },
   "source": [
    "## Arrays and Matrices\n",
    "\n",
    "Define 2 arrays, `A` of dimensions (2,3) and `B` of dimension (3,4).\n",
    "\n",
    "* Perform the operation `C = A.dot(B)`. Comment the result, or the error you get."
   ]
  },
  {
   "cell_type": "code",
   "execution_count": null,
   "metadata": {
    "deletable": false,
    "nbgrader": {
     "checksum": "15bc5991a98ef17ada24a81a38ccf098",
     "grade": false,
     "grade_id": "array7-0",
     "locked": false,
     "solution": true
    }
   },
   "outputs": [],
   "source": [
    "# YOUR CODE HERE\n",
    "raise NotImplementedError()"
   ]
  },
  {
   "cell_type": "code",
   "execution_count": null,
   "metadata": {
    "deletable": false,
    "nbgrader": {
     "checksum": "e004ee40f8603bf8cbf63b77072489b6",
     "grade": true,
     "grade_id": "array7-0-test",
     "locked": true,
     "points": 1,
     "solution": false
    }
   },
   "outputs": [],
   "source": [
    "assert_equal(A.shape,(2,3))\n",
    "assert_equal(B.shape,(3,4))\n",
    "assert_equal(C.shape,(2,4))\n",
    "expected = sum(A[1,:]*B[:,2])\n",
    "assert_equal(C[1,2],expected)"
   ]
  },
  {
   "cell_type": "markdown",
   "metadata": {
    "deletable": false,
    "nbgrader": {
     "checksum": "0fffe3b48b380095d30a35596935b2b2",
     "grade": true,
     "grade_id": "array7-1",
     "locked": false,
     "points": 1,
     "solution": true
    }
   },
   "source": [
    "YOUR ANSWER HERE"
   ]
  },
  {
   "cell_type": "markdown",
   "metadata": {
    "deletable": false,
    "nbgrader": {
     "checksum": "8daa41c2ab4249f4c3a24697a3834cfe",
     "grade": false,
     "grade_id": "array7-2-desc",
     "locked": true,
     "solution": false
    }
   },
   "source": [
    "* Perform the operation `C = A*(B)`. Comment the result, or the error you get."
   ]
  },
  {
   "cell_type": "code",
   "execution_count": null,
   "metadata": {},
   "outputs": [],
   "source": [
    "C = A*B"
   ]
  },
  {
   "cell_type": "markdown",
   "metadata": {
    "deletable": false,
    "nbgrader": {
     "checksum": "47db906d12d079403949954c4f79c316",
     "grade": true,
     "grade_id": "array7-2",
     "locked": false,
     "points": 1,
     "solution": true
    }
   },
   "source": [
    "YOUR ANSWER HERE"
   ]
  },
  {
   "cell_type": "markdown",
   "metadata": {},
   "source": [
    " * Convert A and B, from arrays to matrices and perform `A*B`. Comment the result."
   ]
  },
  {
   "cell_type": "code",
   "execution_count": null,
   "metadata": {
    "deletable": false,
    "nbgrader": {
     "checksum": "b81bf715c9c1d4ccbc8ea94abe5e7e0b",
     "grade": false,
     "grade_id": "array7-3",
     "locked": false,
     "points": 1,
     "solution": true
    }
   },
   "outputs": [],
   "source": [
    "# YOUR CODE HERE\n",
    "raise NotImplementedError()"
   ]
  },
  {
   "cell_type": "code",
   "execution_count": null,
   "metadata": {
    "deletable": false,
    "nbgrader": {
     "checksum": "30fb1a393cb4628e67361886ad51a242",
     "grade": true,
     "grade_id": "array7-3-test",
     "locked": true,
     "points": 1,
     "solution": false
    }
   },
   "outputs": [],
   "source": [
    "assert_equal(type(A),numpy.matrixlib.defmatrix.matrix)\n",
    "assert_equal(type(B),numpy.matrixlib.defmatrix.matrix)\n",
    "assert_equal(type(C),numpy.matrixlib.defmatrix.matrix)\n",
    "assert_equal(A.shape,(2,3))\n",
    "assert_equal(B.shape,(3,4))\n",
    "assert_equal(C.shape,(2,4))\n",
    "expected = sum(A[1,:]*B[:,2])\n",
    "assert_equal(C[1,2],expected)"
   ]
  },
  {
   "cell_type": "markdown",
   "metadata": {
    "deletable": false,
    "nbgrader": {
     "checksum": "08676ca6235af8c49ec80aa4a66a590e",
     "grade": true,
     "grade_id": "array7-3-1",
     "locked": false,
     "points": 1,
     "solution": true
    }
   },
   "source": [
    "YOUR ANSWER HERE"
   ]
  },
  {
   "cell_type": "markdown",
   "metadata": {
    "deletable": false,
    "nbgrader": {
     "checksum": "8b8d0c8c57aae75207e34b8fb2000846",
     "grade": false,
     "grade_id": "polynomials-desc",
     "locked": true,
     "solution": false
    }
   },
   "source": [
    "# Playing with polynomials\n",
    "\n",
    "The polynomial `(1-x)^6` can be expanded to::\n",
    "     \n",
    "     x^6 - 6*x^5 + 15*x^4 - 20*x^3 + 15*x^2 - 6*x + 1\n",
    "\n",
    "   The two forms above are equivalent from a mathematical point of\n",
    "   view, but may yield different results in a computer machine.\n",
    "\n",
    "   Compute and plot the values of this polynomial, using each of the\n",
    "   two forms, for 101 equally spaced points in the interval\n",
    "   `[0.995,1.005]`, i.e., with a spacing of 0.0001 (use linspace).\n",
    "   \n",
    "   Can you explain this behavior?\n"
   ]
  },
  {
   "cell_type": "code",
   "execution_count": null,
   "metadata": {
    "deletable": false,
    "nbgrader": {
     "checksum": "4cdc4cafeca5d880ebd261209ed618a3",
     "grade": true,
     "grade_id": "polynomials-1",
     "locked": false,
     "points": 2,
     "solution": true
    },
    "scrolled": true
   },
   "outputs": [],
   "source": [
    "# YOUR CODE HERE\n",
    "raise NotImplementedError()"
   ]
  },
  {
   "cell_type": "markdown",
   "metadata": {
    "deletable": false,
    "nbgrader": {
     "checksum": "6756da172811699667da7cf0fe44b1f0",
     "grade": true,
     "grade_id": "polynomials-2",
     "locked": false,
     "points": 1,
     "solution": true
    }
   },
   "source": [
    "YOUR ANSWER HERE"
   ]
  },
  {
   "cell_type": "markdown",
   "metadata": {
    "deletable": false,
    "nbgrader": {
     "checksum": "0a479e894bbf31104f4ec5fd00345c57",
     "grade": false,
     "grade_id": "lagrange-desc",
     "locked": true,
     "solution": false
    }
   },
   "source": [
    "**Playing with interpolation in python**\n",
    "\n",
    "1. Given a set of $n+1$ points $x_i$ as input (either a list of floats, or a numpy array of floats), construct a function `lagrange_basis(xi,i,x)` that returns the $i$-th Lagrange\n",
    "polynomial associated to $x_i$, evaluated at $x$. The $i$-th Lagrange polynomial is defined as polynomial of degree $n$ such that $l_i(x_j) = \\delta_{ij}$, where $\\delta$ is one if $i == j$ and zero otherwise.\n",
    "   \n",
    "Recall the mathematical definition of the $l_i(x)$ polynomials:\n",
    "\n",
    "$$\n",
    "l_i(x) := \\prod_{j=0, j\\neq i}^{n} \\frac{x-x_j}{x_i-x_j}\n",
    "$$\n"
   ]
  },
  {
   "cell_type": "code",
   "execution_count": null,
   "metadata": {
    "deletable": false,
    "nbgrader": {
     "checksum": "af917ca6cdf69420a0d0f725c3fb34ab",
     "grade": false,
     "grade_id": "lagrange",
     "locked": false,
     "solution": true
    }
   },
   "outputs": [],
   "source": [
    "def lagrange_basis(xi, i, x):\n",
    "    # YOUR CODE HERE\n",
    "    raise NotImplementedError()"
   ]
  },
  {
   "cell_type": "code",
   "execution_count": null,
   "metadata": {
    "deletable": false,
    "nbgrader": {
     "checksum": "73158993cb16085f319edae1418cccbb",
     "grade": true,
     "grade_id": "lagrange-check",
     "locked": true,
     "points": 4,
     "solution": false
    }
   },
   "outputs": [],
   "source": [
    "x = linspace(0,1,5)\n",
    "d = 3\n",
    "xi = linspace(0,1,d)\n",
    "\n",
    "assert_equal(list(lagrange_basis(xi, 0, x)),[1.0, 0.375, -0.0, -0.125, 0.0])\n",
    "assert_equal(list(lagrange_basis(xi, 1, x)),[0.0, 0.75, 1.0, 0.75, -0.0])\n",
    "assert_equal(list(lagrange_basis(xi, 2, x)),[-0.0, -0.125, 0.0, 0.375, 1.0])\n",
    "\n",
    "assert_raises(AssertionError, lagrange_basis, xi, -1, x)\n",
    "assert_raises(AssertionError, lagrange_basis, xi, 10, x)"
   ]
  },
  {
   "cell_type": "markdown",
   "metadata": {
    "deletable": false,
    "nbgrader": {
     "checksum": "450949a960185bfab0adb1e2780677b5",
     "grade": false,
     "grade_id": "lagrange2-desc",
     "locked": true,
     "solution": false
    }
   },
   "source": [
    "Construct the function `lagrange_interpolation(xi,g)` that, given the set of interpolation points `xi` and a function `g`, it returns **another function** that when evaluated at **x** returns the Lagrange interpolation polynomial of `g` defined as \n",
    "\n",
    "$$\n",
    " \\mathcal{L} g(x) := \\sum_{i=0}^n g(x_i) l_i(x)\n",
    "$$\n",
    "\n",
    "You could use this function as follows::\n",
    "\n",
    "    Lg = lagrange_interpolation(xi, g)\n",
    "    xi = linspace(0,1,101)\n",
    "    plot(x, g(x))\n",
    "    plot(x, Lg(x))\n",
    "    plot(xi, g(xi), 'or')"
   ]
  },
  {
   "cell_type": "code",
   "execution_count": null,
   "metadata": {
    "collapsed": true,
    "deletable": false,
    "nbgrader": {
     "checksum": "72546294ade57aa55dd327b7a989660e",
     "grade": false,
     "grade_id": "lagrange2",
     "locked": false,
     "solution": true
    }
   },
   "outputs": [],
   "source": [
    "def lagrange_interpolation(xi,f):\n",
    "    # YOUR CODE HERE\n",
    "    raise NotImplementedError()"
   ]
  },
  {
   "cell_type": "code",
   "execution_count": null,
   "metadata": {
    "deletable": false,
    "nbgrader": {
     "checksum": "40ee1bebe6d691744dccbef3c40fe196",
     "grade": true,
     "grade_id": "lagrange2-check",
     "locked": true,
     "points": 4,
     "solution": false
    }
   },
   "outputs": [],
   "source": [
    "# Check for polynomials. This should be **exact**\n",
    "g = lambda x: x**3+x**2\n",
    "\n",
    "xi = linspace(0,1,4)\n",
    "Lg = lagrange_interpolation(xi, g)\n",
    "\n",
    "x = linspace(0,1,1001)\n",
    "\n",
    "assert p_norm(g(x) - Lg(x),float('inf')) < 1e-15, 'This should be zero...'"
   ]
  },
  {
   "cell_type": "code",
   "execution_count": null,
   "metadata": {
    "collapsed": true
   },
   "outputs": [],
   "source": []
  }
 ],
 "metadata": {
  "kernelspec": {
   "display_name": "Python 3",
   "language": "python",
   "name": "python3"
  },
  "language_info": {
   "codemirror_mode": {
    "name": "ipython",
    "version": 3
   },
   "file_extension": ".py",
   "mimetype": "text/x-python",
   "name": "python",
   "nbconvert_exporter": "python",
   "pygments_lexer": "ipython3",
   "version": "3.5.5"
  }
 },
 "nbformat": 4,
 "nbformat_minor": 1
}
